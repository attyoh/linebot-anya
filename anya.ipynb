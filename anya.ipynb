{
 "cells": [
  {
   "cell_type": "code",
   "execution_count": 1,
   "id": "f46318ec-eff3-407b-b723-bf3537bc5392",
   "metadata": {},
   "outputs": [
    {
     "name": "stdout",
     "output_type": "stream",
     "text": [
      "Requirement already satisfied: line-bot-sdk in c:\\users\\kotat\\appdata\\local\\programs\\python\\python310\\lib\\site-packages (2.3.0)\n",
      "Requirement already satisfied: aiohttp>=3.7.4 in c:\\users\\kotat\\appdata\\local\\programs\\python\\python310\\lib\\site-packages (from line-bot-sdk) (3.8.3)\n",
      "Requirement already satisfied: future in c:\\users\\kotat\\appdata\\local\\programs\\python\\python310\\lib\\site-packages (from line-bot-sdk) (0.18.2)\n",
      "Requirement already satisfied: requests>=2.0 in c:\\users\\kotat\\appdata\\local\\programs\\python\\python310\\lib\\site-packages (from line-bot-sdk) (2.28.1)\n",
      "Requirement already satisfied: frozenlist>=1.1.1 in c:\\users\\kotat\\appdata\\local\\programs\\python\\python310\\lib\\site-packages (from aiohttp>=3.7.4->line-bot-sdk) (1.3.1)\n",
      "Requirement already satisfied: aiosignal>=1.1.2 in c:\\users\\kotat\\appdata\\local\\programs\\python\\python310\\lib\\site-packages (from aiohttp>=3.7.4->line-bot-sdk) (1.2.0)\n",
      "Requirement already satisfied: yarl<2.0,>=1.0 in c:\\users\\kotat\\appdata\\local\\programs\\python\\python310\\lib\\site-packages (from aiohttp>=3.7.4->line-bot-sdk) (1.8.1)\n",
      "Requirement already satisfied: attrs>=17.3.0 in c:\\users\\kotat\\appdata\\local\\programs\\python\\python310\\lib\\site-packages (from aiohttp>=3.7.4->line-bot-sdk) (22.1.0)\n",
      "Requirement already satisfied: charset-normalizer<3.0,>=2.0 in c:\\users\\kotat\\appdata\\local\\programs\\python\\python310\\lib\\site-packages (from aiohttp>=3.7.4->line-bot-sdk) (2.1.1)\n",
      "Requirement already satisfied: multidict<7.0,>=4.5 in c:\\users\\kotat\\appdata\\local\\programs\\python\\python310\\lib\\site-packages (from aiohttp>=3.7.4->line-bot-sdk) (6.0.2)\n",
      "Requirement already satisfied: async-timeout<5.0,>=4.0.0a3 in c:\\users\\kotat\\appdata\\local\\programs\\python\\python310\\lib\\site-packages (from aiohttp>=3.7.4->line-bot-sdk) (4.0.2)\n",
      "Requirement already satisfied: urllib3<1.27,>=1.21.1 in c:\\users\\kotat\\appdata\\local\\programs\\python\\python310\\lib\\site-packages (from requests>=2.0->line-bot-sdk) (1.26.12)\n",
      "Requirement already satisfied: certifi>=2017.4.17 in c:\\users\\kotat\\appdata\\local\\programs\\python\\python310\\lib\\site-packages (from requests>=2.0->line-bot-sdk) (2022.9.24)\n",
      "Requirement already satisfied: idna<4,>=2.5 in c:\\users\\kotat\\appdata\\local\\programs\\python\\python310\\lib\\site-packages (from requests>=2.0->line-bot-sdk) (3.4)\n"
     ]
    }
   ],
   "source": [
    "!pip install line-bot-sdk"
   ]
  },
  {
   "cell_type": "code",
   "execution_count": 2,
   "id": "726e1ab6-ce09-4b29-b152-53c8274a737d",
   "metadata": {},
   "outputs": [],
   "source": [
    "import json"
   ]
  },
  {
   "cell_type": "code",
   "execution_count": 5,
   "id": "a261dd53-32d9-4bed-aa09-187a1d990304",
   "metadata": {},
   "outputs": [],
   "source": [
    "file = open('info.json', 'r')\n",
    "info = json.load(file)"
   ]
  },
  {
   "cell_type": "code",
   "execution_count": 6,
   "id": "eafbd30d-5a85-494b-9743-de5671f583f6",
   "metadata": {},
   "outputs": [],
   "source": [
    "from linebot import LineBotApi\n",
    "from linebot.models import TextSendMessage"
   ]
  },
  {
   "cell_type": "code",
   "execution_count": 7,
   "id": "433035de-fb2f-4956-b1a3-d5c4d23953ef",
   "metadata": {},
   "outputs": [],
   "source": [
    "CHANNEL_ACCESS_TOKEN = info['CHANNEL_ACCESS_TOKEN']\n",
    "line_bot_api = LineBotApi(CHANNEL_ACCESS_TOKEN)"
   ]
  },
  {
   "cell_type": "code",
   "execution_count": 8,
   "id": "94824213-f3c2-47fe-9f4c-7ad4950929f0",
   "metadata": {},
   "outputs": [],
   "source": [
    "def main():\n",
    "    USER_ID = info['USER_ID']\n",
    "    messages = TextSendMessage(text=\"おはやいます\")\n",
    "    line_bot_api.push_message(USER_ID, messages=messages)\n",
    "    \n",
    "if __name__ == \"__main__\":\n",
    "    main()"
   ]
  }
 ],
 "metadata": {
  "kernelspec": {
   "display_name": "Python 3 (ipykernel)",
   "language": "python",
   "name": "python3"
  },
  "language_info": {
   "codemirror_mode": {
    "name": "ipython",
    "version": 3
   },
   "file_extension": ".py",
   "mimetype": "text/x-python",
   "name": "python",
   "nbconvert_exporter": "python",
   "pygments_lexer": "ipython3",
   "version": "3.10.8"
  }
 },
 "nbformat": 4,
 "nbformat_minor": 5
}
